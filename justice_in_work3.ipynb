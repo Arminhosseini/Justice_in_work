{
  "nbformat": 4,
  "nbformat_minor": 0,
  "metadata": {
    "colab": {
      "name": "justice-in-work3.ipynb",
      "provenance": [],
      "collapsed_sections": [],
      "authorship_tag": "ABX9TyMxj2VPRtZyzVyHo+ReiiLP",
      "include_colab_link": true
    },
    "kernelspec": {
      "name": "python3",
      "display_name": "Python 3"
    }
  },
  "cells": [
    {
      "cell_type": "markdown",
      "metadata": {
        "id": "view-in-github",
        "colab_type": "text"
      },
      "source": [
        "<a href=\"https://colab.research.google.com/github/Arminhosseini/Justice_in_work/blob/main/justice_in_work3.ipynb\" target=\"_parent\"><img src=\"https://colab.research.google.com/assets/colab-badge.svg\" alt=\"Open In Colab\"/></a>"
      ]
    },
    {
      "cell_type": "code",
      "metadata": {
        "id": "J0ShzgbunryD"
      },
      "source": [
        "from google.colab import files\n",
        "uploaded = files.upload()"
      ],
      "execution_count": null,
      "outputs": []
    },
    {
      "cell_type": "code",
      "metadata": {
        "id": "NnpE0MRAoYQG"
      },
      "source": [
        "import pandas as pd\n",
        "import numpy as np\n",
        "from sklearn import preprocessing\n",
        "import matplotlib.pyplot as plt \n",
        "plt.rc(\"font\", size=14)\n",
        "from sklearn.model_selection import train_test_split\n",
        "import seaborn as sns\n",
        "sns.set(style=\"white\")\n",
        "sns.set(style=\"whitegrid\", color_codes=True)"
      ],
      "execution_count": null,
      "outputs": []
    },
    {
      "cell_type": "code",
      "metadata": {
        "id": "Vuw4vSHdoLu7"
      },
      "source": [
        "import io\n",
        "df = pd.read_csv(io.BytesIO(uploaded['dataset.csv']))\n",
        "data = df.dropna()\n",
        "# data"
      ],
      "execution_count": null,
      "outputs": []
    },
    {
      "cell_type": "code",
      "metadata": {
        "id": "KR77VPd41J2J"
      },
      "source": [
        "from sklearn import preprocessing\n",
        "le = preprocessing.LabelEncoder()\n",
        "data['id'] = le.fit_transform(data['id'])\n",
        "data['ProId'] = le.fit_transform(data['ProId'])\n",
        "data['CustId'] = le.fit_transform(data['CustId'])\n",
        "data['ServiceId'] = le.fit_transform(data['ServiceId'])\n",
        "data['CategoryId'] = le.fit_transform(data['CategoryId'])\n",
        "data['ZoneId'] = le.fit_transform(data['ZoneId'])\n",
        "data['TargetProId'] = le.fit_transform(data['TargetProId'])\n",
        "data['isFraud'] = le.fit_transform(data['isFraud'])\n",
        "# data.head()"
      ],
      "execution_count": null,
      "outputs": []
    },
    {
      "cell_type": "code",
      "metadata": {
        "id": "grNqBjEg4F-W"
      },
      "source": [
        "cols = [col for col in data.columns if col not in ['id','TaskState']]\n",
        "data = data[cols]"
      ],
      "execution_count": null,
      "outputs": []
    },
    {
      "cell_type": "code",
      "metadata": {
        "id": "drDumq8x46Hb"
      },
      "source": [
        "cat_vars=['ProId','CustId','Rate','ServiceId','CategoryId','ZoneId']\n",
        "for var in cat_vars:\n",
        "    cat_list='var'+'_'+var\n",
        "    cat_list = pd.get_dummies(data[var], prefix=var)\n",
        "    data1=data.join(cat_list)\n",
        "    data=data1\n",
        "cat_vars=['ProId','CustId','Rate','ServiceId','CategoryId','ZoneId']\n",
        "data_vars=data.columns.values.tolist()\n",
        "to_keep=[i for i in data_vars if i not in cat_vars]"
      ],
      "execution_count": null,
      "outputs": []
    },
    {
      "cell_type": "code",
      "metadata": {
        "id": "8gZKlNln88y8",
        "colab": {
          "base_uri": "https://localhost:8080/"
        },
        "outputId": "1ba803fc-8a15-4b88-ac2c-1e1d458b6ad1"
      },
      "source": [
        "data_final=data[to_keep]\n",
        "# data_final.columns.values"
      ],
      "execution_count": null,
      "outputs": [
        {
          "output_type": "execute_result",
          "data": {
            "text/plain": [
              "array(['ProCreationTimestamp', 'CustCreationTimestamp',\n",
              "       'TaskCreationTimestamp', ..., 'ZoneId_32', 'ZoneId_33',\n",
              "       'ZoneId_34'], dtype=object)"
            ]
          },
          "metadata": {
            "tags": []
          },
          "execution_count": 7
        }
      ]
    },
    {
      "cell_type": "code",
      "metadata": {
        "id": "iN80cRQk9aNm",
        "colab": {
          "base_uri": "https://localhost:8080/"
        },
        "outputId": "b62b33a8-5086-47d9-ab23-a197919b866d"
      },
      "source": [
        "X = data_final.loc[:, data_final.columns != 'isFraud']\n",
        "y = data_final.loc[:, data_final.columns == 'isFraud']\n",
        "from imblearn.over_sampling import SMOTE\n",
        "os = SMOTE(random_state=0)\n",
        "X_train, X_test, y_train, y_test = train_test_split(X, y, test_size=0.3, random_state=0)\n",
        "columns = X_train.columns\n",
        "os_data_X,os_data_y=os.fit_resample(X_train, y_train)\n",
        "os_data_X = pd.DataFrame(data=os_data_X,columns=columns )\n",
        "os_data_y= pd.DataFrame(data=os_data_y,columns=['isFraud'])\n",
        "# we can Check the numbers of our data\n",
        "print(\"length of oversampled data is \",len(os_data_X))\n",
        "print(\"Number of non Fraud in oversampled data\",len(os_data_y[os_data_y['isFraud']==False]))\n",
        "print(\"Number of Fraud\",len(os_data_y[os_data_y['isFraud']==True]))\n",
        "print(\"Proportion of non Fraud data in oversampled data is \",len(os_data_y[os_data_y['isFraud']==False])/len(os_data_X))\n",
        "print(\"Proportion of Fraud data in oversampled data is \",len(os_data_y[os_data_y['isFraud']==True])/len(os_data_X))"
      ],
      "execution_count": null,
      "outputs": [
        {
          "output_type": "stream",
          "text": [
            "length of oversampled data is  2636\n",
            "Number of non Fraud in oversampled data 1318\n",
            "Number of Fraud 1318\n",
            "Proportion of non Fraud data in oversampled data is  0.5\n",
            "Proportion of Fraud data in oversampled data is  0.5\n"
          ],
          "name": "stdout"
        }
      ]
    },
    {
      "cell_type": "code",
      "metadata": {
        "id": "5WhEwB9gY9r8"
      },
      "source": [
        "!pip install -U imbalanced-learn\n",
        "# import imblearn\n",
        "# print(imblearn.__version__)\n",
        "# !pip freeze\n"
      ],
      "execution_count": null,
      "outputs": []
    },
    {
      "cell_type": "code",
      "metadata": {
        "id": "oTDBufDP-tuG",
        "colab": {
          "base_uri": "https://localhost:8080/"
        },
        "outputId": "e6acb557-efc8-4c34-e21a-6de94c3c0adf"
      },
      "source": [
        "data_final_vars=data_final.columns.values.tolist()\n",
        "y=['isFraud']\n",
        "X=[i for i in data_final_vars if i not in y]\n",
        "from sklearn.feature_selection import SequentialFeatureSelector\n",
        "from sklearn.neighbors import KNeighborsClassifier\n",
        "neigh = KNeighborsClassifier(n_neighbors=3)\n",
        "sfs = SequentialFeatureSelector(neigh, n_features_to_select=3)\n",
        "sfs.fit(os_data_X, os_data_y.values.ravel())\n",
        "print(sfs.get_support())"
      ],
      "execution_count": null,
      "outputs": [
        {
          "output_type": "stream",
          "text": [
            "[False False False ... False False False]\n"
          ],
          "name": "stdout"
        }
      ]
    },
    {
      "cell_type": "code",
      "metadata": {
        "id": "WWYVAw-4HLU-",
        "colab": {
          "base_uri": "https://localhost:8080/"
        },
        "outputId": "73ed955a-39f2-4dee-d16b-9785aa1013bd"
      },
      "source": [
        "rightFeatures = np.array([])\n",
        "for i in range(sfs.support_.shape[0]):\n",
        "  if sfs.support_[i] == True:\n",
        "    rightFeatures = np.append(rightFeatures, X[i])\n",
        "\n",
        "rightFeatures"
      ],
      "execution_count": null,
      "outputs": [
        {
          "output_type": "execute_result",
          "data": {
            "text/plain": [
              "array(['Price', 'ServiceId_93', 'CategoryId_4'], dtype='<U32')"
            ]
          },
          "metadata": {
            "tags": []
          },
          "execution_count": 10
        }
      ]
    },
    {
      "cell_type": "code",
      "metadata": {
        "id": "zV8zM4HDKcOE"
      },
      "source": [
        "X=os_data_X[rightFeatures]\n",
        "y=os_data_y['isFraud']"
      ],
      "execution_count": null,
      "outputs": []
    },
    {
      "cell_type": "code",
      "metadata": {
        "id": "VM0Jrm297YX2"
      },
      "source": [
        "data_train, data_test, target_train, target_test = train_test_split(X,y, test_size = 0.30, random_state = 10)"
      ],
      "execution_count": null,
      "outputs": []
    },
    {
      "cell_type": "code",
      "metadata": {
        "colab": {
          "base_uri": "https://localhost:8080/"
        },
        "id": "RwJPLMvV7ncA",
        "outputId": "167eb4a7-89a1-44ef-d640-3f708d72e5eb"
      },
      "source": [
        "from sklearn.neighbors import KNeighborsClassifier\n",
        "from sklearn.metrics import accuracy_score\n",
        "neigh = KNeighborsClassifier(n_neighbors=30)\n",
        "neigh.fit(data_train, target_train)\n",
        "pred = neigh.predict(data_test)\n",
        "print (\"KNeighbors accuracy score : \",accuracy_score(target_test, pred))"
      ],
      "execution_count": null,
      "outputs": [
        {
          "output_type": "stream",
          "text": [
            "KNeighbors accuracy score :  0.606826801517067\n"
          ],
          "name": "stdout"
        }
      ]
    },
    {
      "cell_type": "code",
      "metadata": {
        "id": "6R9aB6LSjnAj"
      },
      "source": [
        "import statsmodels.api as sm\n",
        "logit_model=sm.Logit(y,X)\n",
        "result=logit_model.fit()\n",
        "print(result.summary2())"
      ],
      "execution_count": null,
      "outputs": []
    },
    {
      "cell_type": "code",
      "metadata": {
        "id": "clTtu6IUlxhh"
      },
      "source": [
        "cols = ['ProCreationTimestamp','TaskCreationTimestamp','Price','TargetProId','ProId_41',\n",
        "        'ProId_84','Rate_4','ServiceId_1','CategoryId_0','ZoneId_1','ZoneId_5']\n",
        "\n",
        "X=os_data_X[cols]\n",
        "y=os_data_y['isFraud']\n",
        "logit_model=sm.Logit(y,X)\n",
        "result=logit_model.fit()\n",
        "print(result.summary2())"
      ],
      "execution_count": null,
      "outputs": []
    },
    {
      "cell_type": "code",
      "metadata": {
        "id": "wcj7Ozbtn2Cp"
      },
      "source": [
        "from sklearn.linear_model import LogisticRegression\n",
        "from sklearn import metrics\n",
        "\n",
        "X_train, X_test, y_train, y_test = train_test_split(X, y, test_size=0.3, random_state=0)\n",
        "logreg = LogisticRegression()\n",
        "logreg.fit(X_train, y_train)"
      ],
      "execution_count": null,
      "outputs": []
    },
    {
      "cell_type": "code",
      "metadata": {
        "id": "ACdTrNR-oj68"
      },
      "source": [
        "y_pred = logreg.predict(X_test)\n",
        "print('Accuracy of logistic regression classifier on test set: {:.2f}'.format(logreg.score(X_test, y_test)))"
      ],
      "execution_count": null,
      "outputs": []
    }
  ]
}